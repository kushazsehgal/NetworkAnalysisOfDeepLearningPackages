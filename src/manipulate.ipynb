{
 "cells": [
  {
   "cell_type": "code",
   "execution_count": 4,
   "metadata": {},
   "outputs": [],
   "source": [
    "import pandas as pd\n",
    "import json\n",
    "import numpy as np\n",
    "import datetime\n",
    "import json"
   ]
  },
  {
   "cell_type": "code",
   "execution_count": 6,
   "metadata": {},
   "outputs": [],
   "source": [
    "words = ['artificial','ai','machine','learning','natural','vision','language','processing','computer','tensorflow','tf','pytorch','torch','neural','network','networks','model','models','deep','reinforcement','data','recognition','analytics']\n",
    "with open('F:\\IIM banglore\\python packages\\output\\my_keywords.json','w') as f:\n",
    "    json.dump(words,f)"
   ]
  },
  {
   "cell_type": "code",
   "execution_count": 2,
   "metadata": {},
   "outputs": [
    {
     "name": "stdout",
     "output_type": "stream",
     "text": [
      "['artificial', 'ai', 'machine', 'learning', 'natural', 'vision', 'language', 'processing', 'computer', 'tensorflow', 'tf', 'pytorch', 'torch', 'neural', 'network', 'networks', 'model', 'models', 'deep', 'reinforcement', 'data', 'recognition', 'analytics']\n"
     ]
    }
   ],
   "source": [
    "print(words)"
   ]
  },
  {
   "cell_type": "code",
   "execution_count": 2,
   "metadata": {},
   "outputs": [],
   "source": [
    "LIBIO_FILE = 'F:\\IIM banglore\\python packages\\output\\libio_data.jsonl' \n",
    "PYPI_FILE = 'F:\\IIM banglore\\python packages\\output\\pypi_data.jsonl'\n",
    "MERGED = 'F:\\IIM banglore\\python packages\\output\\merged_data.jsonl'"
   ]
  },
  {
   "cell_type": "code",
   "execution_count": null,
   "metadata": {},
   "outputs": [],
   "source": [
    "pypi_dic = {}\n",
    "with open(PYPI_FILE,'r') as f:\n",
    "    line = f.readline()\n",
    "    dic = json.loads(line)\n",
    "    for key in dic.keys():\n",
    "        pypi_dic[key] = []\n",
    "with open(PYPI_FILE,'r') as f:\n",
    "    for line in f.readlines():\n",
    "        dic = json.loads(line)\n",
    "        for key in pypi_dic.keys():\n",
    "            pypi_dic[key].append(dic[key])\n",
    "pypi_df = pd.DataFrame(data = pypi_dic)\n",
    "pypi_df.to_excel('F:\\IIM banglore\\python packages\\output\\pypi_data.xlsx')\n",
    "pypi_df.to_pickle('F:\\IIM banglore\\python packages\\output\\pypi_data.pkl')\n",
    "        "
   ]
  },
  {
   "cell_type": "code",
   "execution_count": null,
   "metadata": {},
   "outputs": [],
   "source": [
    "libio_dic = {}\n",
    "with open(LIBIO_FILE,'r') as f:\n",
    "    line = f.readline()\n",
    "    dic = json.loads(line)\n",
    "    for key in dic.keys():\n",
    "        libio_dic[key] = []\n",
    "with open(LIBIO_FILE,'r') as f:\n",
    "    for line in f.readlines():\n",
    "        dic = json.loads(line)\n",
    "        for key in libio_dic.keys():\n",
    "            libio_dic[key].append(dic[key])\n",
    "libio_df = pd.DataFrame(data = libio_dic)\n",
    "libio_df.to_excel('F:\\IIM banglore\\python packages\\output\\libio_data.xlsx')\n",
    "libio_df.to_pickle('F:\\IIM banglore\\python packages\\output\\libio_data.pkl')"
   ]
  },
  {
   "cell_type": "code",
   "execution_count": 3,
   "metadata": {},
   "outputs": [],
   "source": [
    "pypi_df = pd.read_pickle(('F:\\IIM banglore\\python packages\\output\\pypi_data.pkl'))\n",
    "libio_df = pd.read_pickle(('F:\\IIM banglore\\python packages\\output\\libio_data.pkl'))"
   ]
  },
  {
   "cell_type": "code",
   "execution_count": 4,
   "metadata": {},
   "outputs": [
    {
     "name": "stdout",
     "output_type": "stream",
     "text": [
      "['Package Name', 'Package Version', 'Release Date', 'Package URL', 'Stars', 'Forks', 'Open/Closed Issues', 'License', 'Author', 'pypi_keywords', 'Requires', 'Maintainers', 'Development Status', 'Environment', 'Intended Audience', 'Classifier License', 'Programming Language', 'Topic', 'Framework', 'Natural Language', 'Operating System', 'GitHub Link', 'libio - Keywords', 'SourceRank', 'Dependencies', 'Dependent packages', 'Dependent repositories', 'Total releases', 'Latest release', 'First release', 'Watchers', 'Contributors', 'Repository size', '(Dependency,Version)', '(Dependent,stars)', 'Dependencies Link', 'Dependent Repos Link']\n"
     ]
    }
   ],
   "source": [
    "cols = list(pypi_df.columns)\n",
    "pypi_cols = list(pypi_df.columns)\n",
    "libio_cols = list(libio_df.columns)\n",
    "cols += list(libio_df.columns)\n",
    "cols = list(pd.unique(cols))\n",
    "print(cols)"
   ]
  },
  {
   "cell_type": "code",
   "execution_count": 11,
   "metadata": {},
   "outputs": [
    {
     "name": "stderr",
     "output_type": "stream",
     "text": [
      "C:\\Users\\LENOVO\\AppData\\Local\\Temp\\ipykernel_14292\\1864157513.py:6: FutureWarning: The frame.append method is deprecated and will be removed from pandas in a future version. Use pandas.concat instead.\n",
      "  df.append(df2)\n"
     ]
    },
    {
     "data": {
      "text/html": [
       "<div>\n",
       "<style scoped>\n",
       "    .dataframe tbody tr th:only-of-type {\n",
       "        vertical-align: middle;\n",
       "    }\n",
       "\n",
       "    .dataframe tbody tr th {\n",
       "        vertical-align: top;\n",
       "    }\n",
       "\n",
       "    .dataframe thead th {\n",
       "        text-align: right;\n",
       "    }\n",
       "</style>\n",
       "<table border=\"1\" class=\"dataframe\">\n",
       "  <thead>\n",
       "    <tr style=\"text-align: right;\">\n",
       "      <th></th>\n",
       "      <th>A</th>\n",
       "      <th>B</th>\n",
       "    </tr>\n",
       "  </thead>\n",
       "  <tbody>\n",
       "    <tr>\n",
       "      <th>x</th>\n",
       "      <td>1</td>\n",
       "      <td>2</td>\n",
       "    </tr>\n",
       "    <tr>\n",
       "      <th>y</th>\n",
       "      <td>3</td>\n",
       "      <td>4</td>\n",
       "    </tr>\n",
       "  </tbody>\n",
       "</table>\n",
       "</div>"
      ],
      "text/plain": [
       "   A  B\n",
       "x  1  2\n",
       "y  3  4"
      ]
     },
     "execution_count": 11,
     "metadata": {},
     "output_type": "execute_result"
    }
   ],
   "source": [
    "# print(dic)\n",
    "    # new_df = pd.DataFrame(data = dic)\n",
    "    # merged_pypi_df = pd.concat([merged_pypi_df,new_df],ignore_index=True)\n",
    "# df = pd.DataFrame([[1, 2], [3, 4]], columns=list('AB'), index=['x', 'y'])\n",
    "# df2 = pd.DataFrame([[5, 6], [7, 8]], columns=list('AB'), index=['x', 'y'])\n",
    "# df.append(df2)\n",
    "# df"
   ]
  },
  {
   "cell_type": "code",
   "execution_count": 15,
   "metadata": {},
   "outputs": [
    {
     "name": "stdout",
     "output_type": "stream",
     "text": [
      "************************* SAVED *************************\n",
      "0.0\n",
      "The time is now: = 0:52:15\n",
      "1.0\n",
      "The time is now: = 0:58:19\n",
      "2.0\n",
      "The time is now: = 1:5:9\n"
     ]
    },
    {
     "ename": "KeyboardInterrupt",
     "evalue": "",
     "output_type": "error",
     "traceback": [
      "\u001b[1;31m---------------------------------------------------------------------------\u001b[0m",
      "\u001b[1;31mKeyboardInterrupt\u001b[0m                         Traceback (most recent call last)",
      "\u001b[1;32mf:\\IIM banglore\\python packages\\src\\manipulate.ipynb Cell 9'\u001b[0m in \u001b[0;36m<cell line: 2>\u001b[1;34m()\u001b[0m\n\u001b[0;32m      <a href='vscode-notebook-cell:/f%3A/IIM%20banglore/python%20packages/src/manipulate.ipynb#ch0000008?line=6'>7</a>\u001b[0m \u001b[39mfor\u001b[39;00m col \u001b[39min\u001b[39;00m pypi_cols:\n\u001b[0;32m      <a href='vscode-notebook-cell:/f%3A/IIM%20banglore/python%20packages/src/manipulate.ipynb#ch0000008?line=7'>8</a>\u001b[0m     dic[col] \u001b[39m=\u001b[39m row[col]\n\u001b[1;32m----> <a href='vscode-notebook-cell:/f%3A/IIM%20banglore/python%20packages/src/manipulate.ipynb#ch0000008?line=8'>9</a>\u001b[0m \u001b[39mfor\u001b[39;00m j,row2 \u001b[39min\u001b[39;00m libio_df[libio_df[\u001b[39m'\u001b[39;49m\u001b[39mPackage Name\u001b[39;49m\u001b[39m'\u001b[39;49m] \u001b[39m==\u001b[39;49m pkg_name]\u001b[39m.\u001b[39miterrows():\n\u001b[0;32m     <a href='vscode-notebook-cell:/f%3A/IIM%20banglore/python%20packages/src/manipulate.ipynb#ch0000008?line=9'>10</a>\u001b[0m     \u001b[39mfor\u001b[39;00m col2 \u001b[39min\u001b[39;00m libio_cols:\n\u001b[0;32m     <a href='vscode-notebook-cell:/f%3A/IIM%20banglore/python%20packages/src/manipulate.ipynb#ch0000008?line=10'>11</a>\u001b[0m         dic[col2] \u001b[39m=\u001b[39m row2[col2]\n",
      "File \u001b[1;32mc:\\Users\\LENOVO\\AppData\\Local\\Programs\\Python\\Python310\\lib\\site-packages\\pandas\\core\\ops\\common.py:70\u001b[0m, in \u001b[0;36m_unpack_zerodim_and_defer.<locals>.new_method\u001b[1;34m(self, other)\u001b[0m\n\u001b[0;32m     66\u001b[0m             \u001b[39mreturn\u001b[39;00m \u001b[39mNotImplemented\u001b[39m\n\u001b[0;32m     68\u001b[0m other \u001b[39m=\u001b[39m item_from_zerodim(other)\n\u001b[1;32m---> 70\u001b[0m \u001b[39mreturn\u001b[39;00m method(\u001b[39mself\u001b[39;49m, other)\n",
      "File \u001b[1;32mc:\\Users\\LENOVO\\AppData\\Local\\Programs\\Python\\Python310\\lib\\site-packages\\pandas\\core\\arraylike.py:40\u001b[0m, in \u001b[0;36mOpsMixin.__eq__\u001b[1;34m(self, other)\u001b[0m\n\u001b[0;32m     38\u001b[0m \u001b[39m@unpack_zerodim_and_defer\u001b[39m(\u001b[39m\"\u001b[39m\u001b[39m__eq__\u001b[39m\u001b[39m\"\u001b[39m)\n\u001b[0;32m     39\u001b[0m \u001b[39mdef\u001b[39;00m \u001b[39m__eq__\u001b[39m(\u001b[39mself\u001b[39m, other):\n\u001b[1;32m---> 40\u001b[0m     \u001b[39mreturn\u001b[39;00m \u001b[39mself\u001b[39;49m\u001b[39m.\u001b[39;49m_cmp_method(other, operator\u001b[39m.\u001b[39;49meq)\n",
      "File \u001b[1;32mc:\\Users\\LENOVO\\AppData\\Local\\Programs\\Python\\Python310\\lib\\site-packages\\pandas\\core\\series.py:5623\u001b[0m, in \u001b[0;36mSeries._cmp_method\u001b[1;34m(self, other, op)\u001b[0m\n\u001b[0;32m   5620\u001b[0m rvalues \u001b[39m=\u001b[39m extract_array(other, extract_numpy\u001b[39m=\u001b[39m\u001b[39mTrue\u001b[39;00m, extract_range\u001b[39m=\u001b[39m\u001b[39mTrue\u001b[39;00m)\n\u001b[0;32m   5622\u001b[0m \u001b[39mwith\u001b[39;00m np\u001b[39m.\u001b[39merrstate(\u001b[39mall\u001b[39m\u001b[39m=\u001b[39m\u001b[39m\"\u001b[39m\u001b[39mignore\u001b[39m\u001b[39m\"\u001b[39m):\n\u001b[1;32m-> 5623\u001b[0m     res_values \u001b[39m=\u001b[39m ops\u001b[39m.\u001b[39;49mcomparison_op(lvalues, rvalues, op)\n\u001b[0;32m   5625\u001b[0m \u001b[39mreturn\u001b[39;00m \u001b[39mself\u001b[39m\u001b[39m.\u001b[39m_construct_result(res_values, name\u001b[39m=\u001b[39mres_name)\n",
      "File \u001b[1;32mc:\\Users\\LENOVO\\AppData\\Local\\Programs\\Python\\Python310\\lib\\site-packages\\pandas\\core\\ops\\array_ops.py:283\u001b[0m, in \u001b[0;36mcomparison_op\u001b[1;34m(left, right, op)\u001b[0m\n\u001b[0;32m    280\u001b[0m     \u001b[39mreturn\u001b[39;00m invalid_comparison(lvalues, rvalues, op)\n\u001b[0;32m    282\u001b[0m \u001b[39melif\u001b[39;00m is_object_dtype(lvalues\u001b[39m.\u001b[39mdtype) \u001b[39mor\u001b[39;00m \u001b[39misinstance\u001b[39m(rvalues, \u001b[39mstr\u001b[39m):\n\u001b[1;32m--> 283\u001b[0m     res_values \u001b[39m=\u001b[39m comp_method_OBJECT_ARRAY(op, lvalues, rvalues)\n\u001b[0;32m    285\u001b[0m \u001b[39melse\u001b[39;00m:\n\u001b[0;32m    286\u001b[0m     res_values \u001b[39m=\u001b[39m _na_arithmetic_op(lvalues, rvalues, op, is_cmp\u001b[39m=\u001b[39m\u001b[39mTrue\u001b[39;00m)\n",
      "File \u001b[1;32mc:\\Users\\LENOVO\\AppData\\Local\\Programs\\Python\\Python310\\lib\\site-packages\\pandas\\core\\ops\\array_ops.py:74\u001b[0m, in \u001b[0;36mcomp_method_OBJECT_ARRAY\u001b[1;34m(op, x, y)\u001b[0m\n\u001b[0;32m     72\u001b[0m \u001b[39melse\u001b[39;00m:\n\u001b[0;32m     73\u001b[0m     result \u001b[39m=\u001b[39m libops\u001b[39m.\u001b[39mscalar_compare(x\u001b[39m.\u001b[39mravel(), y, op)\n\u001b[1;32m---> 74\u001b[0m \u001b[39mreturn\u001b[39;00m result\u001b[39m.\u001b[39;49mreshape(x\u001b[39m.\u001b[39;49mshape)\n",
      "\u001b[1;31mKeyboardInterrupt\u001b[0m: "
     ]
    }
   ],
   "source": [
    "merged_pypi_df = pd.DataFrame(columns= cols)\n",
    "for i,row in pypi_df.iterrows():\n",
    "    pkg_name = row['Package Name']\n",
    "    dic = {}\n",
    "    for col in cols:\n",
    "        dic[col] = None\n",
    "    for col in pypi_cols:\n",
    "        dic[col] = row[col]\n",
    "    for j,row2 in libio_df[libio_df['Package Name'] == pkg_name].iterrows():\n",
    "        for col2 in libio_cols:\n",
    "            dic[col2] = row2[col2]\n",
    "    # merged_pypi_df = merged_pypi_df.append(dic,ignore_index=True)\n",
    "    new_df = pd.DataFrame()\n",
    "    for col in cols:\n",
    "        new_df[col] = [dic[col]]\n",
    "    merged_pypi_df = pd.concat([merged_pypi_df,new_df],ignore_index=True)\n",
    "    if i%500000 == 0:\n",
    "        print('*'*25,\"SAVED\",'*'*25)\n",
    "        merged_pypi_df.to_excel(f'F:\\IIM banglore\\python packages\\output\\merged_pypi_{i/500000}.xlsx')\n",
    "        merged_pypi_df.to_pickle(f'F:\\IIM banglore\\python packages\\output\\merged_pypi_{i/500000}.pkl')\n",
    "    if i%10000 == 0:\n",
    "        print(i/10000)\n",
    "        e = datetime.datetime.now()\n",
    "        print (\"The time is now: = %s:%s:%s\" % (e.hour, e.minute, e.second))\n",
    "merged_pypi_df.to_excel('F:\\IIM banglore\\python packages\\output\\merged_pypi.xlsx')\n",
    "merged_pypi_df.to_pickle('F:\\IIM banglore\\python packages\\output\\merged_pypi.pkl')\n"
   ]
  },
  {
   "cell_type": "code",
   "execution_count": 46,
   "metadata": {},
   "outputs": [
    {
     "name": "stdout",
     "output_type": "stream",
     "text": [
      "['Package Name', 'Package Version', 'Release Date', 'Package URL', 'Stars', 'Forks', 'Open/Closed Issues', 'License', 'Author', 'pypi_keywords', 'Requires', 'Maintainers', 'Development Status', 'Environment', 'Intended Audience', 'Classifier License', 'Programming Language', 'Topic', 'Framework', 'Natural Language', 'Operating System', 'GitHub Link']\n"
     ]
    }
   ],
   "source": [
    "libio_ai = pd.DataFrame(columns= libio_cols)\n",
    "pypi_ai = pd.DataFrame(columns = pypi_cols)\n",
    "print(pypi_cols)"
   ]
  },
  {
   "cell_type": "code",
   "execution_count": 48,
   "metadata": {},
   "outputs": [
    {
     "name": "stdout",
     "output_type": "stream",
     "text": [
      "************************* SAVED *************************\n",
      "0.0\n",
      "The time is now: = 1:45:8\n",
      "1.0\n",
      "The time is now: = 1:45:24\n",
      "2.0\n",
      "The time is now: = 1:45:33\n",
      "3.0\n",
      "The time is now: = 1:45:45\n",
      "4.0\n",
      "The time is now: = 1:45:56\n",
      "5.0\n",
      "The time is now: = 1:46:12\n",
      "6.0\n",
      "The time is now: = 1:46:27\n",
      "7.0\n",
      "The time is now: = 1:46:45\n",
      "8.0\n",
      "The time is now: = 1:47:2\n",
      "9.0\n",
      "The time is now: = 1:47:23\n",
      "10.0\n",
      "The time is now: = 1:47:42\n",
      "11.0\n",
      "The time is now: = 1:48:8\n",
      "12.0\n",
      "The time is now: = 1:48:36\n",
      "13.0\n",
      "The time is now: = 1:49:7\n",
      "14.0\n",
      "The time is now: = 1:49:22\n",
      "15.0\n",
      "The time is now: = 1:49:42\n",
      "16.0\n",
      "The time is now: = 1:50:6\n",
      "17.0\n",
      "The time is now: = 1:50:32\n",
      "18.0\n",
      "The time is now: = 1:50:57\n",
      "19.0\n",
      "The time is now: = 1:51:25\n",
      "20.0\n",
      "The time is now: = 1:51:58\n",
      "21.0\n",
      "The time is now: = 1:52:34\n",
      "22.0\n",
      "The time is now: = 1:53:26\n",
      "23.0\n",
      "The time is now: = 1:54:4\n",
      "24.0\n",
      "The time is now: = 1:54:45\n",
      "25.0\n",
      "The time is now: = 1:55:27\n",
      "26.0\n",
      "The time is now: = 1:56:25\n",
      "27.0\n",
      "The time is now: = 1:57:23\n",
      "28.0\n",
      "The time is now: = 1:58:10\n",
      "29.0\n",
      "The time is now: = 1:58:50\n"
     ]
    }
   ],
   "source": [
    "for i,row in pypi_df.iterrows():\n",
    "    compiled_string = \"\"\n",
    "    compiled_string += row['Package Name']\n",
    "    compiled_string += row['pypi_keywords']\n",
    "    for item in row['Topic']:\n",
    "        compiled_string += item    \n",
    "    add = False\n",
    "    compiled_string = compiled_string.lower()\n",
    "    # print(compiled_string)\n",
    "    for word in words:\n",
    "        if word in compiled_string:\n",
    "            add = True\n",
    "            break\n",
    "    if add:\n",
    "        # print('found')\n",
    "        temp_df = pd.DataFrame()\n",
    "        for col in pypi_cols:\n",
    "            temp_df[col] = [row[col]]\n",
    "        pypi_ai = pd.concat([pypi_ai,temp_df],ignore_index=True)\n",
    "\n",
    "    if i%500000 == 0:\n",
    "        print('*'*25,\"SAVED\",'*'*25)\n",
    "        pypi_ai.to_excel(f'F:\\IIM banglore\\python packages\\output\\pypi_ai_{i/500000}.xlsx')\n",
    "        pypi_ai.to_pickle(f'F:\\IIM banglore\\python packages\\output\\pypi_ai_{i/500000}.pkl')\n",
    "    if i%10000 == 0:\n",
    "        print(i/10000)\n",
    "        e = datetime.datetime.now()\n",
    "        print (\"The time is now: = %s:%s:%s\" % (e.hour, e.minute, e.second))\n",
    "pypi_ai.to_excel('F:\\IIM banglore\\python packages\\output\\pypi_ai.xlsx')\n",
    "pypi_ai.to_pickle('F:\\IIM banglore\\python packages\\output\\pypi_ai.pkl')\n",
    "               "
   ]
  },
  {
   "cell_type": "code",
   "execution_count": 21,
   "metadata": {},
   "outputs": [],
   "source": [
    "pypi_ai.to_excel('F:\\IIM banglore\\python packages\\output\\pypi_ai.xlsx')\n",
    "pypi_ai.to_pickle('F:\\IIM banglore\\python packages\\output\\pypi_ai.pkl')"
   ]
  },
  {
   "cell_type": "code",
   "execution_count": 49,
   "metadata": {},
   "outputs": [
    {
     "data": {
      "text/html": [
       "<div>\n",
       "<style scoped>\n",
       "    .dataframe tbody tr th:only-of-type {\n",
       "        vertical-align: middle;\n",
       "    }\n",
       "\n",
       "    .dataframe tbody tr th {\n",
       "        vertical-align: top;\n",
       "    }\n",
       "\n",
       "    .dataframe thead th {\n",
       "        text-align: right;\n",
       "    }\n",
       "</style>\n",
       "<table border=\"1\" class=\"dataframe\">\n",
       "  <thead>\n",
       "    <tr style=\"text-align: right;\">\n",
       "      <th></th>\n",
       "      <th>Package Name</th>\n",
       "      <th>libio - Keywords</th>\n",
       "      <th>SourceRank</th>\n",
       "      <th>Dependencies</th>\n",
       "      <th>Dependent packages</th>\n",
       "      <th>Dependent repositories</th>\n",
       "      <th>Total releases</th>\n",
       "      <th>Latest release</th>\n",
       "      <th>First release</th>\n",
       "      <th>Stars</th>\n",
       "      <th>Forks</th>\n",
       "      <th>Watchers</th>\n",
       "      <th>Contributors</th>\n",
       "      <th>Repository size</th>\n",
       "      <th>(Dependency,Version)</th>\n",
       "      <th>(Dependent,stars)</th>\n",
       "      <th>Dependencies Link</th>\n",
       "      <th>Dependent Repos Link</th>\n",
       "    </tr>\n",
       "  </thead>\n",
       "  <tbody>\n",
       "  </tbody>\n",
       "</table>\n",
       "</div>"
      ],
      "text/plain": [
       "Empty DataFrame\n",
       "Columns: [Package Name, libio - Keywords, SourceRank, Dependencies, Dependent packages, Dependent repositories, Total releases, Latest release, First release, Stars, Forks, Watchers, Contributors, Repository size, (Dependency,Version), (Dependent,stars), Dependencies Link, Dependent Repos Link]\n",
       "Index: []"
      ]
     },
     "execution_count": 49,
     "metadata": {},
     "output_type": "execute_result"
    }
   ],
   "source": [
    "libio_ai"
   ]
  },
  {
   "cell_type": "code",
   "execution_count": 50,
   "metadata": {},
   "outputs": [
    {
     "name": "stdout",
     "output_type": "stream",
     "text": [
      "0.0\n",
      "The time is now: = 2:10:0\n",
      "1.0\n",
      "The time is now: = 2:10:15\n",
      "2.0\n",
      "The time is now: = 2:10:22\n",
      "3.0\n",
      "The time is now: = 2:10:28\n",
      "4.0\n",
      "The time is now: = 2:10:36\n",
      "5.0\n",
      "The time is now: = 2:10:43\n",
      "6.0\n",
      "The time is now: = 2:10:50\n",
      "7.0\n",
      "The time is now: = 2:11:3\n",
      "8.0\n",
      "The time is now: = 2:11:11\n",
      "9.0\n",
      "The time is now: = 2:11:22\n",
      "10.0\n",
      "The time is now: = 2:11:34\n",
      "11.0\n",
      "The time is now: = 2:11:46\n",
      "12.0\n",
      "The time is now: = 2:11:56\n",
      "13.0\n",
      "The time is now: = 2:12:9\n",
      "14.0\n",
      "The time is now: = 2:12:23\n",
      "15.0\n",
      "The time is now: = 2:12:38\n",
      "16.0\n",
      "The time is now: = 2:12:51\n",
      "17.0\n",
      "The time is now: = 2:13:7\n",
      "18.0\n",
      "The time is now: = 2:13:26\n",
      "19.0\n",
      "The time is now: = 2:13:49\n",
      "20.0\n",
      "The time is now: = 2:14:10\n",
      "21.0\n",
      "The time is now: = 2:14:29\n",
      "22.0\n",
      "The time is now: = 2:14:43\n",
      "23.0\n",
      "The time is now: = 2:15:2\n",
      "24.0\n",
      "The time is now: = 2:15:18\n",
      "25.0\n",
      "The time is now: = 2:15:38\n",
      "26.0\n",
      "The time is now: = 2:15:55\n",
      "27.0\n",
      "The time is now: = 2:16:14\n",
      "28.0\n",
      "The time is now: = 2:16:34\n",
      "29.0\n",
      "The time is now: = 2:16:57\n",
      "30.0\n",
      "The time is now: = 2:17:27\n",
      "31.0\n",
      "The time is now: = 2:17:49\n",
      "32.0\n",
      "The time is now: = 2:18:10\n",
      "33.0\n",
      "The time is now: = 2:18:33\n",
      "34.0\n",
      "The time is now: = 2:19:12\n",
      "35.0\n",
      "The time is now: = 2:19:55\n",
      "36.0\n",
      "The time is now: = 2:20:30\n",
      "37.0\n",
      "The time is now: = 2:20:54\n"
     ]
    }
   ],
   "source": [
    "for i,row in libio_df.iterrows():\n",
    "    compiled_string = row['Package Name']\n",
    "    for item in row['libio - Keywords']:\n",
    "        compiled_string += ' ' + item    \n",
    "    add = False\n",
    "    compiled_string = compiled_string.lower()\n",
    "    # print(compiled_string)\n",
    "    for word in words:\n",
    "        if word in compiled_string:\n",
    "            add = True\n",
    "            break\n",
    "    if add:\n",
    "        # print('found')\n",
    "        temp_df = pd.DataFrame()\n",
    "        for col in libio_cols:\n",
    "            temp_df[col] = [row[col]]\n",
    "        libio_ai = pd.concat([libio_ai,temp_df],ignore_index=True)\n",
    "    if i%10000 == 0:\n",
    "        print(i/10000)\n",
    "        e = datetime.datetime.now()\n",
    "        print (\"The time is now: = %s:%s:%s\" % (e.hour, e.minute, e.second))\n",
    "libio_ai.to_excel('F:\\IIM banglore\\python packages\\output\\libio_ai.xlsx')\n",
    "libio_ai.to_pickle('F:\\IIM banglore\\python packages\\output\\libio_ai.pkl')\n",
    "               "
   ]
  },
  {
   "cell_type": "code",
   "execution_count": null,
   "metadata": {},
   "outputs": [],
   "source": []
  }
 ],
 "metadata": {
  "kernelspec": {
   "display_name": "Python 3.9.10 64-bit",
   "language": "python",
   "name": "python3"
  },
  "language_info": {
   "codemirror_mode": {
    "name": "ipython",
    "version": 3
   },
   "file_extension": ".py",
   "mimetype": "text/x-python",
   "name": "python",
   "nbconvert_exporter": "python",
   "pygments_lexer": "ipython3",
   "version": "3.9.10"
  },
  "orig_nbformat": 4,
  "vscode": {
   "interpreter": {
    "hash": "e31aef8222fb7c235d2ed8e74ce17e973738f89b37261e7466b7a63a6dfb1214"
   }
  }
 },
 "nbformat": 4,
 "nbformat_minor": 2
}
